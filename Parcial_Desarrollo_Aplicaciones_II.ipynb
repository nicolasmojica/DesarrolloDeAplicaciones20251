{
  "nbformat": 4,
  "nbformat_minor": 0,
  "metadata": {
    "colab": {
      "provenance": []
    },
    "kernelspec": {
      "name": "python3",
      "display_name": "Python 3"
    },
    "language_info": {
      "name": "python"
    }
  },
  "cells": [
    {
      "cell_type": "markdown",
      "source": [
        "# **Instrucciones para el Parcial de Desarrollo de Aplicaciones II - Primer Corte**\n",
        "\n",
        "\n",
        "**Objetivo:**\n",
        "\n",
        "\n",
        "Cada estudiante debe clonar el repositorio del parcial, responder una pregunta, guardar los cambios y subirlos a GitHub dentro de un tiempo límite de 45 minutos. El docente revisará los cambios y asignará una nota según el cumplimiento de las instrucciones.\n",
        "\n",
        "\n",
        "**Proceso a seguir:**\n",
        "\n",
        "- Clona el repositorio del parcial.\n",
        "\n",
        "- esponde la pregunta en el archivo correspondiente.\n",
        "\n",
        "- Guarda los cambios y súbelos a GitHub.\n",
        "\n",
        "- Asegúrate de completar todo dentro del tiempo límite de 45 minutos.\n",
        "\n",
        "**Criterios de evaluación:**\n",
        "\n",
        "- Nota 5: Si respondes correctamente la pregunta y subes los cambios a tiempo.\n",
        "\n",
        "- Nota 4: Si subes los cambios a tiempo, pero la respuesta es incorrecta.\n",
        "\n",
        "- Nota 1: Si no subes los cambios dentro del tiempo límite.<\n"
      ],
      "metadata": {
        "id": "gMu0puOKq2VD"
      }
    },
    {
      "cell_type": "code",
      "source": [
        "KEVIN YESITH BALLESTAS GAMEZ"
      ],
      "metadata": {
        "id": "nskDBvg0jLWB"
      },
      "execution_count": null,
      "outputs": []
    },
    {
      "cell_type": "code",
      "source": [
        "QUINTO SEMESTRE"
      ],
      "metadata": {
        "id": "1wf0-F-RjO1P"
      },
      "execution_count": null,
      "outputs": []
    },
    {
      "cell_type": "code",
      "source": [
        "21 AÑOS"
      ],
      "metadata": {
        "id": "x8NQVQkBjQ0L"
      },
      "execution_count": null,
      "outputs": []
    },
    {
      "cell_type": "code",
      "source": [
        "¿Cuál es la diferencia entre un sistema de control de versiones local, centralizado y distribuido?"
      ],
      "metadata": {
        "id": "ENqPAqCvjStk"
      },
      "execution_count": null,
      "outputs": []
    },
    {
      "cell_type": "code",
      "source": [
        "Un sistema de control de versiones local almacena los cambios únicamente en una máquina, lo que limita la colaboración y suele implicar la gestión manual de copias de archivos. Un sistema centralizado (CVCS) usa un servidor único donde se guarda el historial de versiones, permitiendo que varios usuarios trabajen en el mismo proyecto, pero con la desventaja de depender completamente de ese servidor; si falla, nadie puede acceder al historial. En cambio, un sistema distribuido (DVCS) como Git permite que cada usuario tenga una copia completa del repositorio, lo que facilita el trabajo sin conexión, elimina el riesgo de un único punto de fallo y mejora la colaboración mediante múltiples flujos de trabajo y ramas."
      ],
      "metadata": {
        "id": "BJUSCZGbjWDZ"
      },
      "execution_count": null,
      "outputs": []
    }
  ]
}