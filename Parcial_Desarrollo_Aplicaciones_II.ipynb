{
  "cells": [
    {
      "cell_type": "markdown",
      "metadata": {
        "id": "gMu0puOKq2VD"
      },
      "source": [
        "# **Instrucciones para el Parcial de Desarrollo de Aplicaciones II - Primer Corte**\n",
        "\n",
        "\n",
        "**Objetivo:**\n",
        "\n",
        "\n",
        "Cada estudiante debe clonar el repositorio del parcial, responder una pregunta, guardar los cambios y subirlos a GitHub dentro de un tiempo límite de 45 minutos. El docente revisará los cambios y asignará una nota según el cumplimiento de las instrucciones.\n",
        "\n",
        "\n",
        "**Proceso a seguir:**\n",
        "\n",
        "- Clona el repositorio del parcial.\n",
        "\n",
        "- esponde la pregunta en el archivo correspondiente.\n",
        "\n",
        "- Guarda los cambios y súbelos a GitHub.\n",
        "\n",
        "- Asegúrate de completar todo dentro del tiempo límite de 45 minutos.\n",
        "\n",
        "**Criterios de evaluación:**\n",
        "\n",
        "- Nota 5: Si respondes correctamente la pregunta y subes los cambios a tiempo.\n",
        "\n",
        "- Nota 4: Si subes los cambios a tiempo, pero la respuesta es incorrecta.\n",
        "\n",
        "- Nota 1: Si no subes los cambios dentro del tiempo límite.<\n"

      ]
    },
    {
      "cell_type": "code",
      "execution_count": null,
      "metadata": {
        "vscode": {
          "languageId": "plaintext"
        }
      },
      "outputs": [],
      "source": [
       Nelson Alberto Gómez Arévalo	
7° Semestre
41 años
Responder la pregunta asignada: ¿cuál es la importancia de Git y Gihub en el desarrollo de software en la ingeniería de telecomunicaciones?

RESPUESTA:
La importancia de Git y github en el desarrollo de software en la Ingenieria de telecomunicaciones es el siguiente:
Desarrollo colaborativo: Proporciona herramientas para la revisión de código, gestión de problemas (issues) y solicitudes de extracción (pull requests), mejorando la calidad del software.
Integración y despliegue continuo (CI/CD): Facilita la integración y despliegue continuo, permitiendo a los equipos automatizar pruebas y despliegues, lo que acelera el ciclo de desarrollo.
Seguridad y gobernanza: Ofrece características avanzadas de seguridad y gobernanza, como la gestión centralizada de usuarios y repositorios, lo que es crucial para empresas de telecomunicaciones que manejan datos sensibles.
Git y GitHub son fundamentales para mejorar la eficiencia, colaboración y seguridad en el desarrollo de software en la ingeniería de telecomunicaciones.

      ]
    }
  ],
  "metadata": {
    "colab": {
      "provenance": []
    },
    "kernelspec": {
      "display_name": "Python 3",
      "name": "python3"
    },
    "language_info": {
      "name": "python"
    }
  },
  "nbformat": 4,
  "nbformat_minor": 0
}
