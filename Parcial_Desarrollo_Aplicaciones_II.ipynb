{
  "nbformat": 4,
  "nbformat_minor": 0,
  "metadata": {
    "colab": {
      "provenance": []
    },
    "kernelspec": {
      "name": "python3",
      "display_name": "Python 3"
    },
    "language_info": {
      "name": "python"
    }
  },
  "cells": [
    {
      "cell_type": "markdown",
      "source": [
        "# **Instrucciones para el Parcial de Desarrollo de Aplicaciones II - Primer Corte**\n",
        "\n",
        "\n",
        "**Objetivo:**\n",
        "\n",
        "\n",
        "Cada estudiante debe clonar el repositorio del parcial, responder una pregunta, guardar los cambios y subirlos a GitHub dentro de un tiempo límite de 45 minutos. El docente revisará los cambios y asignará una nota según el cumplimiento de las instrucciones.\n",
        "\n",
        "\n",
        "**Proceso a seguir:**\n",
        "\n",
        "- Clona el repositorio del parcial.\n",
        "\n",
        "- esponde la pregunta en el archivo correspondiente.\n",
        "\n",
        "- Guarda los cambios y súbelos a GitHub.\n",
        "\n",
        "- Asegúrate de completar todo dentro del tiempo límite de 45 minutos.\n",
        "\n",
        "**Criterios de evaluación:**\n",
        "\n",
        "- Nota 5: Si respondes correctamente la pregunta y subes los cambios a tiempo.\n",
        "\n",
        "- Nota 4: Si subes los cambios a tiempo, pero la respuesta es incorrecta.\n",
        "\n",
        "- Nota 1: Si no subes los cambios dentro del tiempo límite.<\n"
      ],
      "metadata": {
        "id": "gMu0puOKq2VD"
      }
    },
    {
      "cell_type": "code",
      "source": [
        "\n",
        "nombre = 'Carlos Andres Casas Chitiva'\n",
        "semestre = 'SEMESTRE V'\n",
        "edad = 30\n",
        "\n",
        "pregunta = '¿Qué ventajas ofrece Git como sistema de control de versiones distribuido?'\n",
        "respuesta = '''Git permite trabajar en tu proyecto sin depender de una conexión constante a internet,\n",
        "ya que cada persona tiene una copia completa del repositorio. Esto hace que colaborar con otros sea fácil,\n",
        "permitiendo probar ideas en ramas separadas sin miedo a romper nada. Además, si se equivoca,\n",
        "puede retroceder sin problema. Es una herramienta que te da libertad y control total sobre el historial de tu proyecto.'''\n",
        "\n",
        "print(f'Nombre: {nombre}\\n{semestre}\\nEdad: {edad}\\n\\nPregunta: {pregunta}\\n\\nRespuest"
      ],
      "metadata": {
        "id": "gN1wiOcPdihT"
      },
      "execution_count": null,
      "outputs": []
    }
  ]
}