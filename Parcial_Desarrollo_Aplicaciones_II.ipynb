{
  "nbformat": 4,
  "nbformat_minor": 0,
  "metadata": {
    "colab": {
      "provenance": []
    },
    "kernelspec": {
      "name": "python3",
      "display_name": "Python 3"
    },
    "language_info": {
      "name": "python"
    }
  },
  "cells": [
    {
      "cell_type": "markdown",
      "source": [
        "# **Instrucciones para el Parcial de Desarrollo de Aplicaciones II - Primer Corte**\n",
        "\n",
        "\n",
        "**Objetivo:**\n",
        "\n",
        "\n",
        "Cada estudiante debe clonar el repositorio del parcial, responder una pregunta, guardar los cambios y subirlos a GitHub dentro de un tiempo límite de 45 minutos. El docente revisará los cambios y asignará una nota según el cumplimiento de las instrucciones.\n",
        "\n",
        "\n",
        "**Proceso a seguir:**\n",
        "\n",
        "- Clona el repositorio del parcial.\n",
        "\n",
        "- esponde la pregunta en el archivo correspondiente.\n",
        "\n",
        "- Guarda los cambios y súbelos a GitHub.\n",
        "\n",
        "- Asegúrate de completar todo dentro del tiempo límite de 45 minutos.\n",
        "\n",
        "**Criterios de evaluación:**\n",
        "\n",
        "- Nota 5: Si respondes correctamente la pregunta y subes los cambios a tiempo.\n",
        "\n",
        "- Nota 4: Si subes los cambios a tiempo, pero la respuesta es incorrecta.\n",
        "\n",
        "- Nota 1: Si no subes los cambios dentro del tiempo límite.<\n"
      ],
      "metadata": {
        "id": "gMu0puOKq2VD"
      }
    },
    {
      "cell_type": "markdown",
      "source": [
        "¿Cómo se maneja un conflicto de fusión (merge conflict) en Git?\n",
        "\n",
        "Un conflicto de fusión (merge conflict) en Git ocurre cuando Git no puede fusionar automáticamente los cambios de dos ramas porque afectan la misma parte de un archivo. Para manejar ese conflicto se debe seguir los siguientes pasos:\n",
        "\n",
        "1-Primeramente se debe identificar el conflicto ya que cuando se intenta hacer un git merge, git mostrarà un mensaje \"CONFLICT (content): Merge conflict in archivo.txt\"\n",
        "\n",
        "2-Se debe revisar y resolver el conflicto \"Abriendo el archivo en conflicto con un editor de Texto.\n",
        "\n",
        "3-Se debe marcar el conflicto como resuelto después de haber editado el archivo agregándolo con git add archivo.txt\n",
        "\n",
        "4-Una vez echo el paso anterior se debe continuar con el desarrollo con el comando git pull--continue (DIEGO ROMERO)"
      ],
      "metadata": {
        "id": "w6K2mAlscxCk"
      }
    }
  ]
}