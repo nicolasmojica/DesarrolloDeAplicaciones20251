{
  "nbformat": 4,
  "nbformat_minor": 0,
  "metadata": {
    "colab": {
      "provenance": []
    },
    "kernelspec": {
      "name": "python3",
      "display_name": "Python 3"
    },
    "language_info": {
      "name": "python"
    }
  },
  "cells": [
    {
      "cell_type": "markdown",
      "source": [
        "# **Instrucciones para el Parcial de Desarrollo de Aplicaciones II - Primer Corte**\n",
        "\n",
        "\n",
        "**Objetivo:**\n",
        "\n",
        "\n",
        "Cada estudiante debe clonar el repositorio del parcial, responder una pregunta, guardar los cambios y subirlos a GitHub dentro de un tiempo límite de 45 minutos. El docente revisará los cambios y asignará una nota según el cumplimiento de las instrucciones.\n",
        "\n",
        "\n",
        "**Proceso a seguir:**\n",
        "\n",
        "- Clona el repositorio del parcial.\n",
        "\n",
        "- esponde la pregunta en el archivo correspondiente.\n",
        "\n",
        "- Guarda los cambios y súbelos a GitHub.\n",
        "\n",
        "- Asegúrate de completar todo dentro del tiempo límite de 45 minutos.\n",
        "\n",
        "**Criterios de evaluación:**\n",
        "\n",
        "- Nota 5: Si respondes correctamente la pregunta y subes los cambios a tiempo.\n",
        "\n",
        "- Nota 4: Si subes los cambios a tiempo, pero la respuesta es incorrecta.\n",
        "\n",
        "- Nota 1: Si no subes los cambios dentro del tiempo límite.<\n"
      ],
      "metadata": {
        "id": "gMu0puOKq2VD"
      }
    },
    {
      "cell_type": "code",
      "source": [
        "Samuel Felipe Saiz Lopez\n",
        "Quinto Semestre\n",
        "20\n",
        "\n",
        "Un Fork en GitHub se utiliza para hacer una copia de repositorio donde lo puede modificar de manera abierta y no se necesitan añadir los push."
      ],
      "metadata": {
        "id": "CHqFzqFPdh2z"
      },
      "execution_count": null,
      "outputs": []
    }
  ]
}