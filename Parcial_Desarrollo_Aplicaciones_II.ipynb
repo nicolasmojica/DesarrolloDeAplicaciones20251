{
  "nbformat": 4,
  "nbformat_minor": 0,
  "metadata": {
    "colab": {
      "provenance": []
    },
    "kernelspec": {
      "name": "python3",
      "display_name": "Python 3"
    },
    "language_info": {
      "name": "python"
    }
  },
  "cells": [
    {
      "cell_type": "markdown",
      "source": [
        "# **Instrucciones para el Parcial de Desarrollo de Aplicaciones II - Primer Corte**\n",
        "\n",
        "\n",
        "**Objetivo:**\n",
        "\n",
        "\n",
        "Cada estudiante debe clonar el repositorio del parcial, responder una pregunta, guardar los cambios y subirlos a GitHub dentro de un tiempo límite de 45 minutos. El docente revisará los cambios y asignará una nota según el cumplimiento de las instrucciones.\n",
        "\n",
        "\n",
        "**Proceso a seguir:**\n",
        "\n",
        "- Clona el repositorio del parcial.\n",
        "\n",
        "- esponde la pregunta en el archivo correspondiente.\n",
        "\n",
        "- Guarda los cambios y súbelos a GitHub.\n",
        "\n",
        "- Asegúrate de completar todo dentro del tiempo límite de 45 minutos.\n",
        "\n",
        "**Criterios de evaluación:**\n",
        "\n",
        "- Nota 5: Si respondes correctamente la pregunta y subes los cambios a tiempo.\n",
        "\n",
        "- Nota 4: Si subes los cambios a tiempo, pero la respuesta es incorrecta.\n",
        "\n",
        "- Nota 1: Si no subes los cambios dentro del tiempo límite.<\n"
      ],
      "metadata": {
        "id": "gMu0puOKq2VD"
      }
    },
    {
      "cell_type": "code",
      "source": [
        "NOMBRE: Carolina Serrano Gómez\n",
        "SEMESTRE: 5to\n",
        "EDAD: 35 años\n",
        "¿Cómo se hace un pull request en GitHub?\n",
        "Un Pull Request es una función de GitHub que permite a los desarrolladores solicitar la revisión y aprobación de cambios antes de fusionarlos en la rama principal de desarrollo.\n",
        "Pare realizarlo se deben seguir los siguientes pasos:\n",
        "1. ingresar al repositorio de Github\n",
        "2. Ir a la pestaña que dice Pull requests que esta en la parte superior\n",
        "3. Dar click en el botón New pull request\n",
        "4. En la opción Open a pull request se debe seleccionar la rama que que se requiere hacer el pull request\n",
        "5. Dar una descripción\n",
        "6. Revisar los cambios.\n",
        "7. Dar en el boton Create pull request\n"
      ],
      "metadata": {
        "id": "m02UzwySdRVm"
      },
      "execution_count": null,
      "outputs": []
    }
  ]
}